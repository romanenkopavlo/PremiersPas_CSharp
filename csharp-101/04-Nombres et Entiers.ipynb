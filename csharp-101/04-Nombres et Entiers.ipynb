{
 "cells": [
  {
   "attachments": {},
   "cell_type": "markdown",
   "metadata": {},
   "source": [
    "# Nombres et calcul avec des Entiers\n",
    "\n"
   ]
  },
  {
   "attachments": {},
   "cell_type": "markdown",
   "metadata": {},
   "source": [
    "## Calcul avec des Entiers\n",
    "\n",
    "Nous avons quelques `entiers` définis ci-dessous. Un `integer` est un nombre positif ou negatif.\n",
    "> Essayez de calculer c, avant de lancer le code"
   ]
  },
  {
   "cell_type": "markdown",
   "metadata": {},
   "source": [
    "## Addition"
   ]
  },
  {
   "cell_type": "code",
   "execution_count": null,
   "metadata": {
    "dotnet_interactive": {
     "language": "csharp"
    }
   },
   "outputs": [],
   "source": [
    "int a = 18;\n",
    "int b = 6;\n",
    "int c = a + b;\n",
    "Console.WriteLine(c);"
   ]
  },
  {
   "attachments": {},
   "cell_type": "markdown",
   "metadata": {},
   "source": [
    "## Soustraction"
   ]
  },
  {
   "cell_type": "code",
   "execution_count": null,
   "metadata": {
    "dotnet_interactive": {
     "language": "csharp"
    }
   },
   "outputs": [],
   "source": [
    "int c = a - b;\n",
    "Console.WriteLine(c);"
   ]
  },
  {
   "cell_type": "markdown",
   "metadata": {},
   "source": [
    "## Multiplication"
   ]
  },
  {
   "cell_type": "code",
   "execution_count": null,
   "metadata": {
    "dotnet_interactive": {
     "language": "csharp"
    }
   },
   "outputs": [],
   "source": [
    "int c = a * b;\n",
    "Console.WriteLine(c);"
   ]
  },
  {
   "cell_type": "markdown",
   "metadata": {},
   "source": [
    "## Division"
   ]
  },
  {
   "cell_type": "code",
   "execution_count": null,
   "metadata": {
    "dotnet_interactive": {
     "language": "csharp"
    }
   },
   "outputs": [],
   "source": [
    "int c = a / b;\n",
    "Console.WriteLine(c);"
   ]
  },
  {
   "attachments": {},
   "cell_type": "markdown",
   "metadata": {},
   "source": [
    "# Ordre des operations\n",
    "\n",
    "Le C# suit l'ordre des opérations comme celà se fait en math. C'est à drire, qu'il fait la multiplication et division d'abord, puis l'addition et la soustraction.\n",
    "> Quel serait le résultat en C#, s'il executait l'opération non pas comme en math, mais de gauche à droite?"
   ]
  },
  {
   "cell_type": "code",
   "execution_count": null,
   "metadata": {
    "dotnet_interactive": {
     "language": "csharp"
    }
   },
   "outputs": [],
   "source": [
    "int a = 5;\n",
    "int b = 4;\n",
    "int c = 2;\n",
    "int d = a + b * c;\n",
    "Console.WriteLine(d);"
   ]
  },
  {
   "attachments": {},
   "cell_type": "markdown",
   "metadata": {},
   "source": [
    "## Utilisation des parenthèses\n",
    "\n",
    "Vous pouvez forcer l'ordre d'execution en mettant des parenthèses autour de ce que vous voulez faire en premier\n",
    "> Essayez"
   ]
  },
  {
   "cell_type": "code",
   "execution_count": null,
   "metadata": {
    "dotnet_interactive": {
     "language": "csharp"
    }
   },
   "outputs": [],
   "source": [
    "int d = (a + b) * c;\n",
    "Console.WriteLine(d);"
   ]
  },
  {
   "attachments": {},
   "cell_type": "markdown",
   "metadata": {},
   "source": [
    "Et vous pouvez faire des opérations aussi longues et compliquées que vous le souhaitez.\n",
    "> Est ce que vous pouvez rendre cette ligne encore plus compliquée?"
   ]
  },
  {
   "cell_type": "code",
   "execution_count": null,
   "metadata": {
    "dotnet_interactive": {
     "language": "csharp"
    }
   },
   "outputs": [],
   "source": [
    "int d = (a + b) - 6 * c + (12 * 4) / 3 + 12;\n",
    "Console.WriteLine(d);"
   ]
  },
  {
   "attachments": {},
   "cell_type": "markdown",
   "metadata": {},
   "source": [
    "## Integer: Nombres entiers, quoi que vous fassiez\n",
    "\n",
    "Des calculs sur des `Integer` vont toujours produire des entiers. Ce que cela signifie, c'est que quelle que soit l'opération, même quand le résultat devrait être décimal, le résultat sera réduit à sa partie entière.\n",
    "> Vérifiez cela. Quelle serait la bonne réponse?"
   ]
  },
  {
   "cell_type": "code",
   "execution_count": null,
   "metadata": {
    "dotnet_interactive": {
     "language": "csharp"
    }
   },
   "outputs": [],
   "source": [
    "int a = 7;\n",
    "int b = 4;\n",
    "int c = 3;\n",
    "int d = (a + b) / c;\n",
    "Console.WriteLine(d);"
   ]
  },
  {
   "attachments": {},
   "cell_type": "markdown",
   "metadata": {},
   "source": [
    "# Playground\n",
    "\n",
    "Testez ce que vous avez appris, voilà quelques idées:\n",
    "> Si vous avez des devoirs ou des projets, n'utilisez pas la calculatrice, mais essayez avec du code!\n",
    ">\n",
    "> Comment se fait l'arrondi? Se fait il par valeur supérieure? inférieure? vers l'entier le plus proche?\n",
    ">\n",
    "> Comment fonctionne l'ordre des opérations? Essayez d'ajouter des parenthèses."
   ]
  },
  {
   "cell_type": "code",
   "execution_count": null,
   "metadata": {
    "dotnet_interactive": {
     "language": "csharp"
    }
   },
   "outputs": [],
   "source": [
    "Console.WriteLine(\"Playground\");"
   ]
  }
 ],
 "metadata": {
  "kernelspec": {
   "display_name": ".NET (C#)",
   "language": "C#",
   "name": ".net-csharp"
  },
  "language_info": {
   "name": "polyglot-notebook"
  },
  "polyglot_notebook": {
   "kernelInfo": {
    "defaultKernelName": "csharp",
    "items": [
     {
      "aliases": [],
      "name": ".NET"
     },
     {
      "aliases": [
       "C#",
       "c#"
      ],
      "languageName": "C#",
      "name": "csharp"
     },
     {
      "aliases": [
       "F#",
       "f#"
      ],
      "languageName": "F#",
      "name": "fsharp"
     },
     {
      "aliases": [],
      "languageName": "HTML",
      "name": "html"
     },
     {
      "aliases": [
       "js"
      ],
      "languageName": "JavaScript",
      "name": "javascript"
     },
     {
      "aliases": [],
      "languageName": "KQL",
      "name": "kql"
     },
     {
      "aliases": [],
      "languageName": "Mermaid",
      "name": "mermaid"
     },
     {
      "aliases": [
       "powershell"
      ],
      "languageName": "PowerShell",
      "name": "pwsh"
     },
     {
      "aliases": [],
      "languageName": "SQL",
      "name": "sql"
     },
     {
      "aliases": [],
      "name": "value"
     },
     {
      "aliases": [
       "frontend"
      ],
      "name": "vscode"
     },
     {
      "aliases": [],
      "name": "webview"
     }
    ]
   }
  }
 },
 "nbformat": 4,
 "nbformat_minor": 2
}
