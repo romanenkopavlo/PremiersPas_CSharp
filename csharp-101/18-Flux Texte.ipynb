{
 "cells": [
  {
   "attachments": {},
   "cell_type": "markdown",
   "metadata": {},
   "source": [
    "# Flux Texte\n",
    "\n",
    "Pour pouvoir gérer le contenu d'un flux sous forme de texte, on va pouvoir utiliser des classes `outils`, qui vont exploiter le flux d'octets pour nous.  \n",
    "\n",
    "La classe `StreamWriter` permet d'écrire directement du texte dans un flux.   \n",
    "La classe `StreamReader` permet de lire du texte depuis un flux.\n",
    "\n",
    "\n",
    "On peut utiliser celles-ci de plusieurs façons.\n",
    "\n",
    "## Accès direct\n",
    "\n",
    "> Dans l'exemple ci-dessous, en precisant un nom de fichier, le flux sera crée par la classe `StreamWriter`.\n",
    " "
   ]
  },
  {
   "cell_type": "code",
   "execution_count": 33,
   "metadata": {
    "dotnet_interactive": {
     "language": "csharp"
    },
    "polyglot_notebook": {
     "kernelName": "csharp"
    }
   },
   "outputs": [
    {
     "name": "stdout",
     "output_type": "stream",
     "text": [
      "Chemin du bureau : C:\\Users\\Asus\\Desktop\n",
      "Fichier de sauvegarde : C:\\Users\\Asus\\Desktop\\listeDeFichiers.txt\n"
     ]
    }
   ],
   "source": [
    "using System.IO;\n",
    "\n",
    "string sourceDirectory = @\"C:\\Temp\";\n",
    "\n",
    "if (!Directory.Exists( sourceDirectory ) )\n",
    "{\n",
    "    Directory.CreateDirectory( sourceDirectory);\n",
    "}\n",
    "\n",
    "var listeDeFichiers = Directory.EnumerateFiles(sourceDirectory); \n",
    "// var listeDeFichiers = Directory.EnumerateFiles(sourceDirectory, \"*.txt\"); \n",
    "// Ecrivons la liste des fichiers dans un fichier, sur votre bureau\n",
    "string bureau = Environment.GetFolderPath(Environment.SpecialFolder.Desktop);\n",
    "Console.WriteLine( $\"Chemin du bureau : {bureau}\");\n",
    "string fichier = Path.Combine( bureau, \"listeDeFichiers.txt\" );\n",
    "Console.WriteLine( $\"Fichier de sauvegarde : {fichier}\");\n",
    "using (StreamWriter sw = new StreamWriter(fichier))\n",
    "{\n",
    "    foreach (string currentFile in listeDeFichiers)\n",
    "    {\n",
    "        // On extrait le nom démarrant après la longueur de la chaine qui indique le chemin\n",
    "        string fileName = currentFile.Substring(sourceDirectory.Length + 1);\n",
    "        sw.WriteLine( fileName );\n",
    "    }\n",
    "}"
   ]
  },
  {
   "attachments": {},
   "cell_type": "markdown",
   "metadata": {},
   "source": [
    "## Accès par le flux\n",
    "\n",
    "> Dans l'exemple ci-dessous, on passe par le flux. Ici c'est un flux fichiers, mais cela pourrait être un autre type de flux."
   ]
  },
  {
   "cell_type": "code",
   "execution_count": 2,
   "metadata": {
    "dotnet_interactive": {
     "language": "csharp"
    },
    "polyglot_notebook": {
     "kernelName": "csharp"
    }
   },
   "outputs": [
    {
     "name": "stdout",
     "output_type": "stream",
     "text": [
      "Chemin du bureau : C:\\Users\\Asus\\Desktop\n",
      "Fichier de sauvegarde : C:\\Users\\Asus\\Desktop\\listeDeFichiers2.txt\n"
     ]
    }
   ],
   "source": [
    "using System.IO;\n",
    "\n",
    "string sourceDirectory = @\"C:\\Temp\";\n",
    "\n",
    "if (!Directory.Exists( sourceDirectory ) )\n",
    "{\n",
    "    Directory.CreateDirectory( sourceDirectory);\n",
    "}\n",
    "\n",
    "var listeDeFichiers = Directory.EnumerateFiles(sourceDirectory); \n",
    "// var listeDeFichiers = Directory.EnumerateFiles(sourceDirectory, \"*.txt\"); \n",
    "// Ecrivons la liste des fichiers dans un fichier, sur votre bureau\n",
    "string bureau = Environment.GetFolderPath(Environment.SpecialFolder.Desktop);\n",
    "Console.WriteLine( $\"Chemin du bureau : {bureau}\");\n",
    "string fichier = Path.Combine( bureau, \"listeDeFichiers2.txt\" );\n",
    "Console.WriteLine( $\"Fichier de sauvegarde : {fichier}\");\n",
    "using( FileStream fs = new FileStream(fichier, FileMode.OpenOrCreate) )\n",
    "{\n",
    "    using (StreamWriter sw = new StreamWriter(fs))\n",
    "    {\n",
    "        foreach (string currentFile in listeDeFichiers)\n",
    "        {\n",
    "            // On extrait le nom démarrant après la longueur de la chaine qui indique le chemin\n",
    "            string fileName = currentFile.Substring(sourceDirectory.Length + 1);\n",
    "            sw.WriteLine( fileName );\n",
    "        }\n",
    "    }\n",
    "}"
   ]
  },
  {
   "attachments": {},
   "cell_type": "markdown",
   "metadata": {},
   "source": [
    "# Terrain de jeu: A vous de jouer\n",
    "\n",
    "Réaliser un programme qui peut lire un fichier texte, et le reécrire à l'envers, ligne par ligne. Vous devrez utiliser la classe `StreamWriter` et la classe `StreamReader`.  \n",
    "> 1. Le nouveau fichier aura le nom du fichier d'orgine, mais l'envers. (Y compris l'extension)\n",
    "> 2. Le contenu du nouveau fichier sera le même que celui d'origine, mais à l'envers... ligne par ligne.\n",
    "> 3. Afficher le contenu du nouveau fichier.\n",
    "> 4. Une fois la copie réalisée, écrivez le code permettant de vérifier que les fichiers sont effectivement \"symétriques\".\n"
   ]
  },
  {
   "cell_type": "code",
   "execution_count": 67,
   "metadata": {
    "dotnet_interactive": {
     "language": "csharp"
    }
   },
   "outputs": [
    {
     "name": "stdout",
     "output_type": "stream",
     "text": [
      "Chemin du bureau : C:\\Users\\Asus\\Desktop\n",
      "Fichier de depart non-inverse: C:\\Users\\Asus\\Desktop\\listeDeFichiers.txt\n",
      "Fichier inverse: C:\\Users\\Asus\\Desktop\\sreihciFeDetsil.txt\n",
      "Deuxieme fichier non-inverse: txt.tseTyM\n",
      "Deuxieme fichier non-inverse: txt.yMtseT\n",
      "Deuxieme fichier inverse: MyTest.txt\n",
      "Deuxieme fichier inverse: TestMy.txt\n",
      "Premiere fichier: MyTest.txt\n",
      "Premiere fichier: TestMy.txt\n",
      "Nombre de lignes: 2\n",
      "Nombre de lignes symetriques: 2\n",
      "Les fichiers sont symetriques\n"
     ]
    }
   ],
   "source": [
    "using System.IO;\n",
    "\n",
    "string bureau = Environment.GetFolderPath(Environment.SpecialFolder.Desktop);\n",
    "Console.WriteLine($\"Chemin du bureau : {bureau}\");\n",
    "\n",
    "string fichier1 = \"listeDeFichiers\";\n",
    "string fichierChemin1 = Path.Combine(bureau, $\"{fichier1}.txt\");\n",
    "Console.WriteLine($\"Fichier de depart non-inverse: {fichierChemin1}\");\n",
    "\n",
    "char[] charArray = fichier1.ToCharArray();\n",
    "Array.Reverse(charArray);\n",
    "fichier1 = new string(charArray);\n",
    "\n",
    "string fichierChemin2 = Path.Combine(bureau, $\"{fichier1}.txt\");\n",
    "Console.WriteLine($\"Fichier inverse: {fichierChemin2}\");\n",
    "\n",
    "List<string> listFilesNames;\n",
    "int counterLines;\n",
    "int counterLinesSymetriques;\n",
    "\n",
    "using( FileStream fs = new FileStream(fichierChemin2, FileMode.OpenOrCreate) )\n",
    "{\n",
    "    using (StreamWriter sw = new StreamWriter(fs))\n",
    "    {\n",
    "            using (StreamReader sr = new StreamReader(fichierChemin1))\n",
    "            {\n",
    "                string fileName;\n",
    "                listFilesNames = new List<string>();\n",
    "                while ((fileName = sr.ReadLine()) != null)\n",
    "                {\n",
    "                    listFilesNames.Add(fileName);\n",
    "\n",
    "                    charArray = fileName.ToCharArray();\n",
    "                    Array.Reverse(charArray);\n",
    "                    fileName = new string(charArray);\n",
    "\n",
    "                    Console.WriteLine(\"Deuxieme fichier non-inverse: \" + fileName);\n",
    "\n",
    "                    sw.WriteLine(fileName);\n",
    "                }\n",
    "            }\n",
    "    }\n",
    "}\n",
    "\n",
    "using(StreamReader sr2 = new StreamReader(fichierChemin2))\n",
    "{\n",
    "    string fileName2;\n",
    "    counterLines = 0;\n",
    "    counterLinesSymetriques = 0;\n",
    "    while ((fileName2 = sr2.ReadLine()) != null)\n",
    "    {\n",
    "        counterLines++;\n",
    "        charArray = fileName2.ToCharArray();\n",
    "        Array.Reverse(charArray);\n",
    "        fileName2 = new string(charArray);\n",
    "\n",
    "        Console.WriteLine(\"Deuxieme fichier inverse: \" + fileName2);\n",
    "\n",
    "        if (listFilesNames.Contains(fileName2))\n",
    "        {\n",
    "            counterLinesSymetriques++;\n",
    "        }        \n",
    "    }\n",
    "}\n",
    "\n",
    "foreach(string line in listFilesNames)\n",
    "{\n",
    "    Console.WriteLine(\"Premiere fichier: \" + line);\n",
    "}\n",
    "\n",
    "Console.WriteLine(\"Nombre de lignes: \" + counterLines);\n",
    "Console.WriteLine(\"Nombre de lignes symetriques: \" + counterLinesSymetriques);\n",
    "\n",
    "if (counterLines == counterLinesSymetriques)\n",
    "{\n",
    "    Console.WriteLine(\"Les fichiers sont symetriques\");\n",
    "} \n",
    "else\n",
    "{\n",
    "    Console.WriteLine(\"Les fichiers ne sont pas symetriques\");\n",
    "}\n"
   ]
  }
 ],
 "metadata": {
  "kernelspec": {
   "display_name": ".NET (C#)",
   "language": "C#",
   "name": ".net-csharp"
  },
  "language_info": {
   "name": "polyglot-notebook"
  },
  "polyglot_notebook": {
   "kernelInfo": {
    "defaultKernelName": "csharp",
    "items": [
     {
      "aliases": [],
      "name": ".NET"
     },
     {
      "aliases": [
       "C#",
       "c#"
      ],
      "languageName": "C#",
      "name": "csharp"
     },
     {
      "aliases": [
       "F#",
       "f#"
      ],
      "languageName": "F#",
      "name": "fsharp"
     },
     {
      "aliases": [],
      "languageName": "HTML",
      "name": "html"
     },
     {
      "aliases": [
       "js"
      ],
      "languageName": "JavaScript",
      "name": "javascript"
     },
     {
      "aliases": [],
      "languageName": "KQL",
      "name": "kql"
     },
     {
      "aliases": [],
      "languageName": "Mermaid",
      "name": "mermaid"
     },
     {
      "aliases": [
       "powershell"
      ],
      "languageName": "PowerShell",
      "name": "pwsh"
     },
     {
      "aliases": [],
      "languageName": "SQL",
      "name": "sql"
     },
     {
      "aliases": [],
      "name": "value"
     },
     {
      "aliases": [
       "frontend"
      ],
      "name": "vscode"
     },
     {
      "aliases": [],
      "name": "webview"
     }
    ]
   }
  }
 },
 "nbformat": 4,
 "nbformat_minor": 2
}
